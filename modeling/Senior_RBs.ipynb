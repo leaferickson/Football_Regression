{
 "cells": [
  {
   "cell_type": "code",
   "execution_count": 1,
   "metadata": {},
   "outputs": [],
   "source": [
    "import pandas as pd\n",
    "import numpy as np\n",
    "import statsmodels.api as sm\n",
    "import statsmodels.formula.api as smf\n",
    "import patsy\n",
    "import pickle\n",
    "import copy\n",
    "\n",
    "import seaborn as sns\n",
    "import matplotlib.pyplot as plt\n",
    "from sklearn.linear_model import LinearRegression\n",
    "from sklearn.model_selection import train_test_split\n",
    "from sklearn.linear_model import RidgeCV\n",
    "from sklearn.pipeline import make_pipeline\n",
    "from sklearn.preprocessing import PolynomialFeatures\n",
    "from sklearn.model_selection import KFold\n",
    "from sklearn.metrics import mean_squared_error\n",
    "from sklearn.linear_model import Ridge\n",
    "from sklearn.linear_model import Lasso\n",
    "from sklearn.linear_model import ElasticNet"
   ]
  },
  {
   "cell_type": "code",
   "execution_count": 3,
   "metadata": {},
   "outputs": [],
   "source": [
    "wrs = pickle.load(open(\"../data/rbs_senior.pkl\",\"rb\"))"
   ]
  },
  {
   "cell_type": "code",
   "execution_count": 6,
   "metadata": {},
   "outputs": [
    {
     "name": "stderr",
     "output_type": "stream",
     "text": [
      "/home/leaferickson/anaconda3/lib/python3.6/site-packages/ipykernel_launcher.py:4: SettingWithCopyWarning: \n",
      "A value is trying to be set on a copy of a slice from a DataFrame.\n",
      "Try using .loc[row_indexer,col_indexer] = value instead\n",
      "\n",
      "See the caveats in the documentation: http://pandas.pydata.org/pandas-docs/stable/indexing.html#indexing-view-versus-copy\n",
      "  after removing the cwd from sys.path.\n"
     ]
    }
   ],
   "source": [
    "value_inputs = wrs[[\"Rush\",\"Yds_x\",\"TD_x\",\"Fmb\",\"G_x\"]]\n",
    "\n",
    "\n",
    "value_inputs[\"Value\"] = (value_inputs[\"Yds_x\"] + 50 * (value_inputs[\"TD_x\"] - 0.5 * value_inputs[\"Fmb\"])) / (0.5 * value_inputs[\"G_x\"])\n",
    "y = value_inputs[\"Value\"]\n",
    "X = wrs.loc[:,\"Att\":\"Conf\"]\n",
    "\n",
    "X_test, X_train, y_test, y_train = train_test_split(X, y, test_size=0.8, random_state=29)\n",
    "data = X_train.merge(pd.DataFrame(y_train), left_index = True, right_index = True)\n",
    "data = data.dropna()"
   ]
  },
  {
   "cell_type": "code",
   "execution_count": 7,
   "metadata": {},
   "outputs": [
    {
     "data": {
      "text/html": [
       "<table class=\"simpletable\">\n",
       "<caption>OLS Regression Results</caption>\n",
       "<tr>\n",
       "  <th>Dep. Variable:</th>          <td>Value</td>      <th>  R-squared:         </th> <td>   0.149</td>\n",
       "</tr>\n",
       "<tr>\n",
       "  <th>Model:</th>                   <td>OLS</td>       <th>  Adj. R-squared:    </th> <td>   0.140</td>\n",
       "</tr>\n",
       "<tr>\n",
       "  <th>Method:</th>             <td>Least Squares</td>  <th>  F-statistic:       </th> <td>   17.23</td>\n",
       "</tr>\n",
       "<tr>\n",
       "  <th>Date:</th>             <td>Fri, 20 Jul 2018</td> <th>  Prob (F-statistic):</th> <td>2.07e-18</td>\n",
       "</tr>\n",
       "<tr>\n",
       "  <th>Time:</th>                 <td>00:54:12</td>     <th>  Log-Likelihood:    </th> <td> -3162.6</td>\n",
       "</tr>\n",
       "<tr>\n",
       "  <th>No. Observations:</th>      <td>   597</td>      <th>  AIC:               </th> <td>   6339.</td>\n",
       "</tr>\n",
       "<tr>\n",
       "  <th>Df Residuals:</th>          <td>   590</td>      <th>  BIC:               </th> <td>   6370.</td>\n",
       "</tr>\n",
       "<tr>\n",
       "  <th>Df Model:</th>              <td>     6</td>      <th>                     </th>     <td> </td>   \n",
       "</tr>\n",
       "<tr>\n",
       "  <th>Covariance Type:</th>      <td>nonrobust</td>    <th>                     </th>     <td> </td>   \n",
       "</tr>\n",
       "</table>\n",
       "<table class=\"simpletable\">\n",
       "<tr>\n",
       "        <td></td>          <th>coef</th>     <th>std err</th>      <th>t</th>      <th>P>|t|</th>  <th>[0.025</th>    <th>0.975]</th>  \n",
       "</tr>\n",
       "<tr>\n",
       "  <th>Intercept</th>    <td>  224.7749</td> <td>  313.163</td> <td>    0.718</td> <td> 0.473</td> <td> -390.275</td> <td>  839.824</td>\n",
       "</tr>\n",
       "<tr>\n",
       "  <th>Conf[T.True]</th> <td>   16.7451</td> <td>    6.124</td> <td>    2.734</td> <td> 0.006</td> <td>    4.718</td> <td>   28.772</td>\n",
       "</tr>\n",
       "<tr>\n",
       "  <th>Yds_y</th>        <td>    0.0456</td> <td>    0.020</td> <td>    2.263</td> <td> 0.024</td> <td>    0.006</td> <td>    0.085</td>\n",
       "</tr>\n",
       "<tr>\n",
       "  <th>TD_y</th>         <td>    2.4276</td> <td>    0.565</td> <td>    4.297</td> <td> 0.000</td> <td>    1.318</td> <td>    3.537</td>\n",
       "</tr>\n",
       "<tr>\n",
       "  <th>Att</th>          <td>   -0.2072</td> <td>    0.105</td> <td>   -1.968</td> <td> 0.049</td> <td>   -0.414</td> <td>   -0.000</td>\n",
       "</tr>\n",
       "<tr>\n",
       "  <th>Avg</th>          <td>   -0.1947</td> <td>    2.865</td> <td>   -0.068</td> <td> 0.946</td> <td>   -5.821</td> <td>    5.432</td>\n",
       "</tr>\n",
       "<tr>\n",
       "  <th>Year</th>         <td>   -0.1018</td> <td>    0.158</td> <td>   -0.644</td> <td> 0.520</td> <td>   -0.412</td> <td>    0.209</td>\n",
       "</tr>\n",
       "</table>\n",
       "<table class=\"simpletable\">\n",
       "<tr>\n",
       "  <th>Omnibus:</th>       <td>94.432</td> <th>  Durbin-Watson:     </th> <td>   1.944</td>\n",
       "</tr>\n",
       "<tr>\n",
       "  <th>Prob(Omnibus):</th> <td> 0.000</td> <th>  Jarque-Bera (JB):  </th> <td> 144.116</td>\n",
       "</tr>\n",
       "<tr>\n",
       "  <th>Skew:</th>          <td> 1.039</td> <th>  Prob(JB):          </th> <td>5.08e-32</td>\n",
       "</tr>\n",
       "<tr>\n",
       "  <th>Kurtosis:</th>      <td> 4.215</td> <th>  Cond. No.          </th> <td>3.48e+05</td>\n",
       "</tr>\n",
       "</table><br/><br/>Warnings:<br/>[1] Standard Errors assume that the covariance matrix of the errors is correctly specified.<br/>[2] The condition number is large, 3.48e+05. This might indicate that there are<br/>strong multicollinearity or other numerical problems."
      ],
      "text/plain": [
       "<class 'statsmodels.iolib.summary.Summary'>\n",
       "\"\"\"\n",
       "                            OLS Regression Results                            \n",
       "==============================================================================\n",
       "Dep. Variable:                  Value   R-squared:                       0.149\n",
       "Model:                            OLS   Adj. R-squared:                  0.140\n",
       "Method:                 Least Squares   F-statistic:                     17.23\n",
       "Date:                Fri, 20 Jul 2018   Prob (F-statistic):           2.07e-18\n",
       "Time:                        00:54:12   Log-Likelihood:                -3162.6\n",
       "No. Observations:                 597   AIC:                             6339.\n",
       "Df Residuals:                     590   BIC:                             6370.\n",
       "Df Model:                           6                                         \n",
       "Covariance Type:            nonrobust                                         \n",
       "================================================================================\n",
       "                   coef    std err          t      P>|t|      [0.025      0.975]\n",
       "--------------------------------------------------------------------------------\n",
       "Intercept      224.7749    313.163      0.718      0.473    -390.275     839.824\n",
       "Conf[T.True]    16.7451      6.124      2.734      0.006       4.718      28.772\n",
       "Yds_y            0.0456      0.020      2.263      0.024       0.006       0.085\n",
       "TD_y             2.4276      0.565      4.297      0.000       1.318       3.537\n",
       "Att             -0.2072      0.105     -1.968      0.049      -0.414      -0.000\n",
       "Avg             -0.1947      2.865     -0.068      0.946      -5.821       5.432\n",
       "Year            -0.1018      0.158     -0.644      0.520      -0.412       0.209\n",
       "==============================================================================\n",
       "Omnibus:                       94.432   Durbin-Watson:                   1.944\n",
       "Prob(Omnibus):                  0.000   Jarque-Bera (JB):              144.116\n",
       "Skew:                           1.039   Prob(JB):                     5.08e-32\n",
       "Kurtosis:                       4.215   Cond. No.                     3.48e+05\n",
       "==============================================================================\n",
       "\n",
       "Warnings:\n",
       "[1] Standard Errors assume that the covariance matrix of the errors is correctly specified.\n",
       "[2] The condition number is large, 3.48e+05. This might indicate that there are\n",
       "strong multicollinearity or other numerical problems.\n",
       "\"\"\""
      ]
     },
     "execution_count": 7,
     "metadata": {},
     "output_type": "execute_result"
    }
   ],
   "source": [
    "lm = smf.ols('Value ~ Yds_y + TD_y + Att + Avg + Year + Conf', data = data)\n",
    "most_naive_model = lm.fit()\n",
    "most_naive_model.summary()"
   ]
  },
  {
   "cell_type": "code",
   "execution_count": 8,
   "metadata": {},
   "outputs": [
    {
     "data": {
      "text/html": [
       "<table class=\"simpletable\">\n",
       "<caption>OLS Regression Results</caption>\n",
       "<tr>\n",
       "  <th>Dep. Variable:</th>          <td>Value</td>      <th>  R-squared:         </th> <td>   0.149</td>\n",
       "</tr>\n",
       "<tr>\n",
       "  <th>Model:</th>                   <td>OLS</td>       <th>  Adj. R-squared:    </th> <td>   0.142</td>\n",
       "</tr>\n",
       "<tr>\n",
       "  <th>Method:</th>             <td>Least Squares</td>  <th>  F-statistic:       </th> <td>   20.72</td>\n",
       "</tr>\n",
       "<tr>\n",
       "  <th>Date:</th>             <td>Fri, 20 Jul 2018</td> <th>  Prob (F-statistic):</th> <td>4.30e-19</td>\n",
       "</tr>\n",
       "<tr>\n",
       "  <th>Time:</th>                 <td>00:54:40</td>     <th>  Log-Likelihood:    </th> <td> -3162.6</td>\n",
       "</tr>\n",
       "<tr>\n",
       "  <th>No. Observations:</th>      <td>   597</td>      <th>  AIC:               </th> <td>   6337.</td>\n",
       "</tr>\n",
       "<tr>\n",
       "  <th>Df Residuals:</th>          <td>   591</td>      <th>  BIC:               </th> <td>   6364.</td>\n",
       "</tr>\n",
       "<tr>\n",
       "  <th>Df Model:</th>              <td>     5</td>      <th>                     </th>     <td> </td>   \n",
       "</tr>\n",
       "<tr>\n",
       "  <th>Covariance Type:</th>      <td>nonrobust</td>    <th>                     </th>     <td> </td>   \n",
       "</tr>\n",
       "</table>\n",
       "<table class=\"simpletable\">\n",
       "<tr>\n",
       "        <td></td>          <th>coef</th>     <th>std err</th>      <th>t</th>      <th>P>|t|</th>  <th>[0.025</th>    <th>0.975]</th>  \n",
       "</tr>\n",
       "<tr>\n",
       "  <th>Intercept</th>    <td>  223.9866</td> <td>  312.684</td> <td>    0.716</td> <td> 0.474</td> <td> -390.121</td> <td>  838.094</td>\n",
       "</tr>\n",
       "<tr>\n",
       "  <th>Conf[T.True]</th> <td>   16.7348</td> <td>    6.117</td> <td>    2.736</td> <td> 0.006</td> <td>    4.722</td> <td>   28.748</td>\n",
       "</tr>\n",
       "<tr>\n",
       "  <th>Yds_y</th>        <td>    0.0446</td> <td>    0.013</td> <td>    3.383</td> <td> 0.001</td> <td>    0.019</td> <td>    0.070</td>\n",
       "</tr>\n",
       "<tr>\n",
       "  <th>TD_y</th>         <td>    2.4284</td> <td>    0.564</td> <td>    4.303</td> <td> 0.000</td> <td>    1.320</td> <td>    3.537</td>\n",
       "</tr>\n",
       "<tr>\n",
       "  <th>Att</th>          <td>   -0.2019</td> <td>    0.070</td> <td>   -2.873</td> <td> 0.004</td> <td>   -0.340</td> <td>   -0.064</td>\n",
       "</tr>\n",
       "<tr>\n",
       "  <th>Year</th>         <td>   -0.1019</td> <td>    0.158</td> <td>   -0.645</td> <td> 0.519</td> <td>   -0.412</td> <td>    0.208</td>\n",
       "</tr>\n",
       "</table>\n",
       "<table class=\"simpletable\">\n",
       "<tr>\n",
       "  <th>Omnibus:</th>       <td>94.376</td> <th>  Durbin-Watson:     </th> <td>   1.944</td>\n",
       "</tr>\n",
       "<tr>\n",
       "  <th>Prob(Omnibus):</th> <td> 0.000</td> <th>  Jarque-Bera (JB):  </th> <td> 143.987</td>\n",
       "</tr>\n",
       "<tr>\n",
       "  <th>Skew:</th>          <td> 1.039</td> <th>  Prob(JB):          </th> <td>5.41e-32</td>\n",
       "</tr>\n",
       "<tr>\n",
       "  <th>Kurtosis:</th>      <td> 4.214</td> <th>  Cond. No.          </th> <td>3.48e+05</td>\n",
       "</tr>\n",
       "</table><br/><br/>Warnings:<br/>[1] Standard Errors assume that the covariance matrix of the errors is correctly specified.<br/>[2] The condition number is large, 3.48e+05. This might indicate that there are<br/>strong multicollinearity or other numerical problems."
      ],
      "text/plain": [
       "<class 'statsmodels.iolib.summary.Summary'>\n",
       "\"\"\"\n",
       "                            OLS Regression Results                            \n",
       "==============================================================================\n",
       "Dep. Variable:                  Value   R-squared:                       0.149\n",
       "Model:                            OLS   Adj. R-squared:                  0.142\n",
       "Method:                 Least Squares   F-statistic:                     20.72\n",
       "Date:                Fri, 20 Jul 2018   Prob (F-statistic):           4.30e-19\n",
       "Time:                        00:54:40   Log-Likelihood:                -3162.6\n",
       "No. Observations:                 597   AIC:                             6337.\n",
       "Df Residuals:                     591   BIC:                             6364.\n",
       "Df Model:                           5                                         \n",
       "Covariance Type:            nonrobust                                         \n",
       "================================================================================\n",
       "                   coef    std err          t      P>|t|      [0.025      0.975]\n",
       "--------------------------------------------------------------------------------\n",
       "Intercept      223.9866    312.684      0.716      0.474    -390.121     838.094\n",
       "Conf[T.True]    16.7348      6.117      2.736      0.006       4.722      28.748\n",
       "Yds_y            0.0446      0.013      3.383      0.001       0.019       0.070\n",
       "TD_y             2.4284      0.564      4.303      0.000       1.320       3.537\n",
       "Att             -0.2019      0.070     -2.873      0.004      -0.340      -0.064\n",
       "Year            -0.1019      0.158     -0.645      0.519      -0.412       0.208\n",
       "==============================================================================\n",
       "Omnibus:                       94.376   Durbin-Watson:                   1.944\n",
       "Prob(Omnibus):                  0.000   Jarque-Bera (JB):              143.987\n",
       "Skew:                           1.039   Prob(JB):                     5.41e-32\n",
       "Kurtosis:                       4.214   Cond. No.                     3.48e+05\n",
       "==============================================================================\n",
       "\n",
       "Warnings:\n",
       "[1] Standard Errors assume that the covariance matrix of the errors is correctly specified.\n",
       "[2] The condition number is large, 3.48e+05. This might indicate that there are\n",
       "strong multicollinearity or other numerical problems.\n",
       "\"\"\""
      ]
     },
     "execution_count": 8,
     "metadata": {},
     "output_type": "execute_result"
    }
   ],
   "source": [
    "lm = smf.ols('Value ~ Yds_y + TD_y + Att + Year + Conf', data = data)\n",
    "most_naive_model = lm.fit()\n",
    "most_naive_model.summary()"
   ]
  },
  {
   "cell_type": "code",
   "execution_count": 9,
   "metadata": {},
   "outputs": [
    {
     "data": {
      "text/html": [
       "<table class=\"simpletable\">\n",
       "<caption>OLS Regression Results</caption>\n",
       "<tr>\n",
       "  <th>Dep. Variable:</th>          <td>Value</td>      <th>  R-squared:         </th> <td>   0.149</td>\n",
       "</tr>\n",
       "<tr>\n",
       "  <th>Model:</th>                   <td>OLS</td>       <th>  Adj. R-squared:    </th> <td>   0.143</td>\n",
       "</tr>\n",
       "<tr>\n",
       "  <th>Method:</th>             <td>Least Squares</td>  <th>  F-statistic:       </th> <td>   25.82</td>\n",
       "</tr>\n",
       "<tr>\n",
       "  <th>Date:</th>             <td>Fri, 20 Jul 2018</td> <th>  Prob (F-statistic):</th> <td>9.63e-20</td>\n",
       "</tr>\n",
       "<tr>\n",
       "  <th>Time:</th>                 <td>00:54:55</td>     <th>  Log-Likelihood:    </th> <td> -3162.8</td>\n",
       "</tr>\n",
       "<tr>\n",
       "  <th>No. Observations:</th>      <td>   597</td>      <th>  AIC:               </th> <td>   6336.</td>\n",
       "</tr>\n",
       "<tr>\n",
       "  <th>Df Residuals:</th>          <td>   592</td>      <th>  BIC:               </th> <td>   6358.</td>\n",
       "</tr>\n",
       "<tr>\n",
       "  <th>Df Model:</th>              <td>     4</td>      <th>                     </th>     <td> </td>   \n",
       "</tr>\n",
       "<tr>\n",
       "  <th>Covariance Type:</th>      <td>nonrobust</td>    <th>                     </th>     <td> </td>   \n",
       "</tr>\n",
       "</table>\n",
       "<table class=\"simpletable\">\n",
       "<tr>\n",
       "        <td></td>          <th>coef</th>     <th>std err</th>      <th>t</th>      <th>P>|t|</th>  <th>[0.025</th>    <th>0.975]</th>  \n",
       "</tr>\n",
       "<tr>\n",
       "  <th>Intercept</th>    <td>   22.2158</td> <td>    7.468</td> <td>    2.975</td> <td> 0.003</td> <td>    7.548</td> <td>   36.883</td>\n",
       "</tr>\n",
       "<tr>\n",
       "  <th>Conf[T.True]</th> <td>   16.7591</td> <td>    6.114</td> <td>    2.741</td> <td> 0.006</td> <td>    4.752</td> <td>   28.766</td>\n",
       "</tr>\n",
       "<tr>\n",
       "  <th>Yds_y</th>        <td>    0.0437</td> <td>    0.013</td> <td>    3.336</td> <td> 0.001</td> <td>    0.018</td> <td>    0.069</td>\n",
       "</tr>\n",
       "<tr>\n",
       "  <th>TD_y</th>         <td>    2.3780</td> <td>    0.559</td> <td>    4.257</td> <td> 0.000</td> <td>    1.281</td> <td>    3.475</td>\n",
       "</tr>\n",
       "<tr>\n",
       "  <th>Att</th>          <td>   -0.1995</td> <td>    0.070</td> <td>   -2.844</td> <td> 0.005</td> <td>   -0.337</td> <td>   -0.062</td>\n",
       "</tr>\n",
       "</table>\n",
       "<table class=\"simpletable\">\n",
       "<tr>\n",
       "  <th>Omnibus:</th>       <td>92.823</td> <th>  Durbin-Watson:     </th> <td>   1.939</td>\n",
       "</tr>\n",
       "<tr>\n",
       "  <th>Prob(Omnibus):</th> <td> 0.000</td> <th>  Jarque-Bera (JB):  </th> <td> 140.051</td>\n",
       "</tr>\n",
       "<tr>\n",
       "  <th>Skew:</th>          <td> 1.031</td> <th>  Prob(JB):          </th> <td>3.87e-31</td>\n",
       "</tr>\n",
       "<tr>\n",
       "  <th>Kurtosis:</th>      <td> 4.173</td> <th>  Cond. No.          </th> <td>4.90e+03</td>\n",
       "</tr>\n",
       "</table><br/><br/>Warnings:<br/>[1] Standard Errors assume that the covariance matrix of the errors is correctly specified.<br/>[2] The condition number is large, 4.9e+03. This might indicate that there are<br/>strong multicollinearity or other numerical problems."
      ],
      "text/plain": [
       "<class 'statsmodels.iolib.summary.Summary'>\n",
       "\"\"\"\n",
       "                            OLS Regression Results                            \n",
       "==============================================================================\n",
       "Dep. Variable:                  Value   R-squared:                       0.149\n",
       "Model:                            OLS   Adj. R-squared:                  0.143\n",
       "Method:                 Least Squares   F-statistic:                     25.82\n",
       "Date:                Fri, 20 Jul 2018   Prob (F-statistic):           9.63e-20\n",
       "Time:                        00:54:55   Log-Likelihood:                -3162.8\n",
       "No. Observations:                 597   AIC:                             6336.\n",
       "Df Residuals:                     592   BIC:                             6358.\n",
       "Df Model:                           4                                         \n",
       "Covariance Type:            nonrobust                                         \n",
       "================================================================================\n",
       "                   coef    std err          t      P>|t|      [0.025      0.975]\n",
       "--------------------------------------------------------------------------------\n",
       "Intercept       22.2158      7.468      2.975      0.003       7.548      36.883\n",
       "Conf[T.True]    16.7591      6.114      2.741      0.006       4.752      28.766\n",
       "Yds_y            0.0437      0.013      3.336      0.001       0.018       0.069\n",
       "TD_y             2.3780      0.559      4.257      0.000       1.281       3.475\n",
       "Att             -0.1995      0.070     -2.844      0.005      -0.337      -0.062\n",
       "==============================================================================\n",
       "Omnibus:                       92.823   Durbin-Watson:                   1.939\n",
       "Prob(Omnibus):                  0.000   Jarque-Bera (JB):              140.051\n",
       "Skew:                           1.031   Prob(JB):                     3.87e-31\n",
       "Kurtosis:                       4.173   Cond. No.                     4.90e+03\n",
       "==============================================================================\n",
       "\n",
       "Warnings:\n",
       "[1] Standard Errors assume that the covariance matrix of the errors is correctly specified.\n",
       "[2] The condition number is large, 4.9e+03. This might indicate that there are\n",
       "strong multicollinearity or other numerical problems.\n",
       "\"\"\""
      ]
     },
     "execution_count": 9,
     "metadata": {},
     "output_type": "execute_result"
    }
   ],
   "source": [
    "lm = smf.ols('Value ~ Yds_y + TD_y + Att + Conf', data = data)\n",
    "most_naive_model = lm.fit()\n",
    "most_naive_model.summary()"
   ]
  },
  {
   "cell_type": "code",
   "execution_count": 10,
   "metadata": {},
   "outputs": [
    {
     "name": "stdout",
     "output_type": "stream",
     "text": [
      "2338.391014799507\n",
      "1776.2170171959851\n"
     ]
    }
   ],
   "source": [
    "lr = LinearRegression()\n",
    "lr.fit(X_train, y_train)\n",
    "print(mean_squared_error(y_train,lr.predict(X_train)))\n",
    "print(mean_squared_error(y_test,lr.predict(X_test)))"
   ]
  },
  {
   "cell_type": "code",
   "execution_count": 11,
   "metadata": {},
   "outputs": [
    {
     "name": "stdout",
     "output_type": "stream",
     "text": [
      "2348.08359585325\n",
      "1752.9900585057712\n"
     ]
    }
   ],
   "source": [
    "lr = Lasso()\n",
    "lr.fit(X_train, y_train)\n",
    "print(mean_squared_error(y_train,lr.predict(X_train)))\n",
    "print(mean_squared_error(y_test,lr.predict(X_test)))"
   ]
  },
  {
   "cell_type": "code",
   "execution_count": 12,
   "metadata": {},
   "outputs": [
    {
     "name": "stdout",
     "output_type": "stream",
     "text": [
      "2338.398245739542\n",
      "1775.3678433915554\n"
     ]
    }
   ],
   "source": [
    "lr = Ridge()\n",
    "lr.fit(X_train, y_train)\n",
    "print(mean_squared_error(y_train,lr.predict(X_train)))\n",
    "print(mean_squared_error(y_test,lr.predict(X_test)))"
   ]
  },
  {
   "cell_type": "code",
   "execution_count": 13,
   "metadata": {},
   "outputs": [
    {
     "name": "stdout",
     "output_type": "stream",
     "text": [
      "2361.338266100455\n",
      "1746.3851027818655\n"
     ]
    }
   ],
   "source": [
    "lr = ElasticNet()\n",
    "lr.fit(X_train, y_train)\n",
    "print(mean_squared_error(y_train,lr.predict(X_train)))\n",
    "print(mean_squared_error(y_test,lr.predict(X_test)))"
   ]
  },
  {
   "cell_type": "code",
   "execution_count": 15,
   "metadata": {},
   "outputs": [
    {
     "name": "stdout",
     "output_type": "stream",
     "text": [
      "2348.083533991831\n",
      "1752.9920380062954\n"
     ]
    }
   ],
   "source": [
    "X2 = X_train[[\"Yds_y\", \"Att\", \"Conf\", \"TD_y\", \"Year\"]]\n",
    "X2[\"int\"] = 1\n",
    "X2[\"Year_Att\"] = np.dot(X2[\"Year\"], X2[\"Att\"])\n",
    "lr = Lasso()\n",
    "lr.fit(X2, y_train)\n",
    "print(mean_squared_error(y_train,lr.predict(X2)))\n",
    "X3 = X_test[[\"Yds_y\", \"Att\", \"Conf\", \"TD_y\", \"Year\"]]\n",
    "X3[\"int\"] = 1\n",
    "X3[\"Year_Att\"] = np.dot(X3[\"Year\"], X3[\"Att\"])\n",
    "print(mean_squared_error(y_test,lr.predict(X3)))"
   ]
  },
  {
   "cell_type": "code",
   "execution_count": 16,
   "metadata": {},
   "outputs": [
    {
     "name": "stdout",
     "output_type": "stream",
     "text": [
      "2348.083533991831\n",
      "1752.9920380062954\n"
     ]
    }
   ],
   "source": [
    "X2 = X_train[[\"Yds_y\", \"Att\", \"Conf\", \"TD_y\", \"Year\"]]\n",
    "X2[\"int\"] = 1\n",
    "lr = Lasso()\n",
    "lr.fit(X2, y_train)\n",
    "print(mean_squared_error(y_train,lr.predict(X2)))\n",
    "X3 = X_test[[\"Yds_y\", \"Att\", \"Conf\", \"TD_y\", \"Year\"]]\n",
    "X3[\"int\"] = 1\n",
    "print(mean_squared_error(y_test,lr.predict(X3)))"
   ]
  },
  {
   "cell_type": "code",
   "execution_count": 23,
   "metadata": {},
   "outputs": [
    {
     "name": "stdout",
     "output_type": "stream",
     "text": [
      "2367.145372696814\n",
      "1742.7365429074403\n"
     ]
    },
    {
     "name": "stderr",
     "output_type": "stream",
     "text": [
      "/home/leaferickson/anaconda3/lib/python3.6/site-packages/ipykernel_launcher.py:2: SettingWithCopyWarning: \n",
      "A value is trying to be set on a copy of a slice from a DataFrame.\n",
      "Try using .loc[row_indexer,col_indexer] = value instead\n",
      "\n",
      "See the caveats in the documentation: http://pandas.pydata.org/pandas-docs/stable/indexing.html#indexing-view-versus-copy\n",
      "  \n",
      "/home/leaferickson/anaconda3/lib/python3.6/site-packages/sklearn/linear_model/coordinate_descent.py:491: ConvergenceWarning: Objective did not converge. You might want to increase the number of iterations. Fitting data with very small alpha may cause precision problems.\n",
      "  ConvergenceWarning)\n",
      "/home/leaferickson/anaconda3/lib/python3.6/site-packages/ipykernel_launcher.py:8: SettingWithCopyWarning: \n",
      "A value is trying to be set on a copy of a slice from a DataFrame.\n",
      "Try using .loc[row_indexer,col_indexer] = value instead\n",
      "\n",
      "See the caveats in the documentation: http://pandas.pydata.org/pandas-docs/stable/indexing.html#indexing-view-versus-copy\n",
      "  \n"
     ]
    }
   ],
   "source": [
    "X2 = X_train[[\"Yds_y\", \"Att\", \"TD_y\", \"Year\"]]\n",
    "X2[\"int\"] = 1\n",
    "X2[\"Year_Att\"] = (X2[\"Year\"] * X2[\"Att\"])\n",
    "lr = ElasticNet()\n",
    "lr.fit(X2, y_train)\n",
    "print(mean_squared_error(y_train,lr.predict(X2)))\n",
    "X3 = X_test[[\"Yds_y\", \"Att\", \"TD_y\", \"Year\"]]\n",
    "X3[\"int\"] = 1\n",
    "X3[\"Year_Att\"] = (X3[\"Year\"] * X3[\"Att\"])\n",
    "print(mean_squared_error(y_test,lr.predict(X3)))"
   ]
  },
  {
   "cell_type": "code",
   "execution_count": null,
   "metadata": {},
   "outputs": [],
   "source": []
  }
 ],
 "metadata": {
  "kernelspec": {
   "display_name": "Python 3",
   "language": "python",
   "name": "python3"
  },
  "language_info": {
   "codemirror_mode": {
    "name": "ipython",
    "version": 3
   },
   "file_extension": ".py",
   "mimetype": "text/x-python",
   "name": "python",
   "nbconvert_exporter": "python",
   "pygments_lexer": "ipython3",
   "version": "3.6.6"
  }
 },
 "nbformat": 4,
 "nbformat_minor": 2
}
