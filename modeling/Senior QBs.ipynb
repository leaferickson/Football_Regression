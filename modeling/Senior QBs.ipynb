{
 "cells": [
  {
   "cell_type": "code",
   "execution_count": 1,
   "metadata": {},
   "outputs": [],
   "source": [
    "import pandas as pd\n",
    "import numpy as np\n",
    "import statsmodels.api as sm\n",
    "import statsmodels.formula.api as smf\n",
    "import patsy\n",
    "import pickle\n",
    "import copy\n",
    "\n",
    "import seaborn as sns\n",
    "import matplotlib.pyplot as plt\n",
    "from sklearn.linear_model import LinearRegression\n",
    "from sklearn.model_selection import train_test_split\n",
    "from sklearn.linear_model import RidgeCV\n",
    "from sklearn.pipeline import make_pipeline\n",
    "from sklearn.preprocessing import PolynomialFeatures\n",
    "from sklearn.model_selection import KFold\n",
    "from sklearn.metrics import mean_squared_error\n",
    "from sklearn.linear_model import Ridge\n",
    "from sklearn.linear_model import Lasso\n",
    "from sklearn.linear_model import ElasticNet"
   ]
  },
  {
   "cell_type": "code",
   "execution_count": 2,
   "metadata": {},
   "outputs": [],
   "source": [
    "wrs = pickle.load(open(\"../data/qbs_senior.pkl\",\"rb\"))"
   ]
  },
  {
   "cell_type": "code",
   "execution_count": 3,
   "metadata": {},
   "outputs": [],
   "source": [
    "y = wrs[\"Rate_x\"]\n",
    "X = wrs.loc[:,\"Cmp_y\":\"Conf\"]\n",
    "\n",
    "X_test, X_train, y_test, y_train = train_test_split(X, y, test_size=0.8, random_state=29)\n",
    "data = X_train.merge(pd.DataFrame(y_train), left_index = True, right_index = True)\n",
    "data = data.dropna()"
   ]
  },
  {
   "cell_type": "code",
   "execution_count": 4,
   "metadata": {},
   "outputs": [
    {
     "data": {
      "text/html": [
       "<table class=\"simpletable\">\n",
       "<caption>OLS Regression Results</caption>\n",
       "<tr>\n",
       "  <th>Dep. Variable:</th>         <td>Rate_x</td>      <th>  R-squared:         </th> <td>   0.186</td>\n",
       "</tr>\n",
       "<tr>\n",
       "  <th>Model:</th>                   <td>OLS</td>       <th>  Adj. R-squared:    </th> <td>   0.154</td>\n",
       "</tr>\n",
       "<tr>\n",
       "  <th>Method:</th>             <td>Least Squares</td>  <th>  F-statistic:       </th> <td>   5.772</td>\n",
       "</tr>\n",
       "<tr>\n",
       "  <th>Date:</th>             <td>Fri, 03 Aug 2018</td> <th>  Prob (F-statistic):</th> <td>3.19e-07</td>\n",
       "</tr>\n",
       "<tr>\n",
       "  <th>Time:</th>                 <td>11:54:33</td>     <th>  Log-Likelihood:    </th> <td> -930.63</td>\n",
       "</tr>\n",
       "<tr>\n",
       "  <th>No. Observations:</th>      <td>   237</td>      <th>  AIC:               </th> <td>   1881.</td>\n",
       "</tr>\n",
       "<tr>\n",
       "  <th>Df Residuals:</th>          <td>   227</td>      <th>  BIC:               </th> <td>   1916.</td>\n",
       "</tr>\n",
       "<tr>\n",
       "  <th>Df Model:</th>              <td>     9</td>      <th>                     </th>     <td> </td>   \n",
       "</tr>\n",
       "<tr>\n",
       "  <th>Covariance Type:</th>      <td>nonrobust</td>    <th>                     </th>     <td> </td>   \n",
       "</tr>\n",
       "</table>\n",
       "<table class=\"simpletable\">\n",
       "<tr>\n",
       "        <td></td>          <th>coef</th>     <th>std err</th>      <th>t</th>      <th>P>|t|</th>  <th>[0.025</th>    <th>0.975]</th>  \n",
       "</tr>\n",
       "<tr>\n",
       "  <th>Intercept</th>    <td> -500.5603</td> <td>  141.779</td> <td>   -3.531</td> <td> 0.001</td> <td> -779.932</td> <td> -221.188</td>\n",
       "</tr>\n",
       "<tr>\n",
       "  <th>Conf[T.True]</th> <td>   -1.5659</td> <td>    2.406</td> <td>   -0.651</td> <td> 0.516</td> <td>   -6.308</td> <td>    3.176</td>\n",
       "</tr>\n",
       "<tr>\n",
       "  <th>Rate_y</th>       <td>   -0.0273</td> <td>    0.162</td> <td>   -0.169</td> <td> 0.866</td> <td>   -0.346</td> <td>    0.292</td>\n",
       "</tr>\n",
       "<tr>\n",
       "  <th>Yds_y</th>        <td>   -0.0043</td> <td>    0.006</td> <td>   -0.727</td> <td> 0.468</td> <td>   -0.016</td> <td>    0.007</td>\n",
       "</tr>\n",
       "<tr>\n",
       "  <th>TD_y</th>         <td>    0.0527</td> <td>    0.250</td> <td>    0.211</td> <td> 0.833</td> <td>   -0.439</td> <td>    0.544</td>\n",
       "</tr>\n",
       "<tr>\n",
       "  <th>Pct</th>          <td>   -0.2061</td> <td>    0.418</td> <td>   -0.493</td> <td> 0.623</td> <td>   -1.030</td> <td>    0.618</td>\n",
       "</tr>\n",
       "<tr>\n",
       "  <th>Att_y</th>        <td>   -0.1014</td> <td>    0.047</td> <td>   -2.167</td> <td> 0.031</td> <td>   -0.194</td> <td>   -0.009</td>\n",
       "</tr>\n",
       "<tr>\n",
       "  <th>Cmp_y</th>        <td>    0.2194</td> <td>    0.103</td> <td>    2.139</td> <td> 0.034</td> <td>    0.017</td> <td>    0.421</td>\n",
       "</tr>\n",
       "<tr>\n",
       "  <th>Int_y</th>        <td>   -0.0954</td> <td>    0.276</td> <td>   -0.345</td> <td> 0.730</td> <td>   -0.640</td> <td>    0.449</td>\n",
       "</tr>\n",
       "<tr>\n",
       "  <th>Year</th>         <td>    0.2954</td> <td>    0.072</td> <td>    4.129</td> <td> 0.000</td> <td>    0.154</td> <td>    0.436</td>\n",
       "</tr>\n",
       "</table>\n",
       "<table class=\"simpletable\">\n",
       "<tr>\n",
       "  <th>Omnibus:</th>       <td>16.787</td> <th>  Durbin-Watson:     </th> <td>   2.088</td>\n",
       "</tr>\n",
       "<tr>\n",
       "  <th>Prob(Omnibus):</th> <td> 0.000</td> <th>  Jarque-Bera (JB):  </th> <td>  19.780</td>\n",
       "</tr>\n",
       "<tr>\n",
       "  <th>Skew:</th>          <td>-0.560</td> <th>  Prob(JB):          </th> <td>5.07e-05</td>\n",
       "</tr>\n",
       "<tr>\n",
       "  <th>Kurtosis:</th>      <td> 3.864</td> <th>  Cond. No.          </th> <td>5.43e+05</td>\n",
       "</tr>\n",
       "</table><br/><br/>Warnings:<br/>[1] Standard Errors assume that the covariance matrix of the errors is correctly specified.<br/>[2] The condition number is large, 5.43e+05. This might indicate that there are<br/>strong multicollinearity or other numerical problems."
      ],
      "text/plain": [
       "<class 'statsmodels.iolib.summary.Summary'>\n",
       "\"\"\"\n",
       "                            OLS Regression Results                            \n",
       "==============================================================================\n",
       "Dep. Variable:                 Rate_x   R-squared:                       0.186\n",
       "Model:                            OLS   Adj. R-squared:                  0.154\n",
       "Method:                 Least Squares   F-statistic:                     5.772\n",
       "Date:                Fri, 03 Aug 2018   Prob (F-statistic):           3.19e-07\n",
       "Time:                        11:54:33   Log-Likelihood:                -930.63\n",
       "No. Observations:                 237   AIC:                             1881.\n",
       "Df Residuals:                     227   BIC:                             1916.\n",
       "Df Model:                           9                                         \n",
       "Covariance Type:            nonrobust                                         \n",
       "================================================================================\n",
       "                   coef    std err          t      P>|t|      [0.025      0.975]\n",
       "--------------------------------------------------------------------------------\n",
       "Intercept     -500.5603    141.779     -3.531      0.001    -779.932    -221.188\n",
       "Conf[T.True]    -1.5659      2.406     -0.651      0.516      -6.308       3.176\n",
       "Rate_y          -0.0273      0.162     -0.169      0.866      -0.346       0.292\n",
       "Yds_y           -0.0043      0.006     -0.727      0.468      -0.016       0.007\n",
       "TD_y             0.0527      0.250      0.211      0.833      -0.439       0.544\n",
       "Pct             -0.2061      0.418     -0.493      0.623      -1.030       0.618\n",
       "Att_y           -0.1014      0.047     -2.167      0.031      -0.194      -0.009\n",
       "Cmp_y            0.2194      0.103      2.139      0.034       0.017       0.421\n",
       "Int_y           -0.0954      0.276     -0.345      0.730      -0.640       0.449\n",
       "Year             0.2954      0.072      4.129      0.000       0.154       0.436\n",
       "==============================================================================\n",
       "Omnibus:                       16.787   Durbin-Watson:                   2.088\n",
       "Prob(Omnibus):                  0.000   Jarque-Bera (JB):               19.780\n",
       "Skew:                          -0.560   Prob(JB):                     5.07e-05\n",
       "Kurtosis:                       3.864   Cond. No.                     5.43e+05\n",
       "==============================================================================\n",
       "\n",
       "Warnings:\n",
       "[1] Standard Errors assume that the covariance matrix of the errors is correctly specified.\n",
       "[2] The condition number is large, 5.43e+05. This might indicate that there are\n",
       "strong multicollinearity or other numerical problems.\n",
       "\"\"\""
      ]
     },
     "execution_count": 4,
     "metadata": {},
     "output_type": "execute_result"
    }
   ],
   "source": [
    "lm = smf.ols('Rate_x ~ Rate_y + Yds_y + TD_y + Pct + Att_y + Cmp_y + Int_y + Year + Conf', data = data)\n",
    "most_naive_model = lm.fit()\n",
    "most_naive_model.summary()"
   ]
  },
  {
   "cell_type": "code",
   "execution_count": 5,
   "metadata": {},
   "outputs": [
    {
     "data": {
      "text/html": [
       "<table class=\"simpletable\">\n",
       "<caption>OLS Regression Results</caption>\n",
       "<tr>\n",
       "  <th>Dep. Variable:</th>         <td>Rate_x</td>      <th>  R-squared:         </th> <td>   0.177</td>\n",
       "</tr>\n",
       "<tr>\n",
       "  <th>Model:</th>                   <td>OLS</td>       <th>  Adj. R-squared:    </th> <td>   0.162</td>\n",
       "</tr>\n",
       "<tr>\n",
       "  <th>Method:</th>             <td>Least Squares</td>  <th>  F-statistic:       </th> <td>   12.44</td>\n",
       "</tr>\n",
       "<tr>\n",
       "  <th>Date:</th>             <td>Fri, 03 Aug 2018</td> <th>  Prob (F-statistic):</th> <td>3.51e-09</td>\n",
       "</tr>\n",
       "<tr>\n",
       "  <th>Time:</th>                 <td>11:54:33</td>     <th>  Log-Likelihood:    </th> <td> -932.03</td>\n",
       "</tr>\n",
       "<tr>\n",
       "  <th>No. Observations:</th>      <td>   237</td>      <th>  AIC:               </th> <td>   1874.</td>\n",
       "</tr>\n",
       "<tr>\n",
       "  <th>Df Residuals:</th>          <td>   232</td>      <th>  BIC:               </th> <td>   1891.</td>\n",
       "</tr>\n",
       "<tr>\n",
       "  <th>Df Model:</th>              <td>     4</td>      <th>                     </th>     <td> </td>   \n",
       "</tr>\n",
       "<tr>\n",
       "  <th>Covariance Type:</th>      <td>nonrobust</td>    <th>                     </th>     <td> </td>   \n",
       "</tr>\n",
       "</table>\n",
       "<table class=\"simpletable\">\n",
       "<tr>\n",
       "      <td></td>         <th>coef</th>     <th>std err</th>      <th>t</th>      <th>P>|t|</th>  <th>[0.025</th>    <th>0.975]</th>  \n",
       "</tr>\n",
       "<tr>\n",
       "  <th>Intercept</th> <td> -500.8457</td> <td>  126.741</td> <td>   -3.952</td> <td> 0.000</td> <td> -750.555</td> <td> -251.136</td>\n",
       "</tr>\n",
       "<tr>\n",
       "  <th>Pct</th>       <td>   -0.2978</td> <td>    0.173</td> <td>   -1.723</td> <td> 0.086</td> <td>   -0.638</td> <td>    0.043</td>\n",
       "</tr>\n",
       "<tr>\n",
       "  <th>Att_y</th>     <td>   -0.1202</td> <td>    0.039</td> <td>   -3.049</td> <td> 0.003</td> <td>   -0.198</td> <td>   -0.043</td>\n",
       "</tr>\n",
       "<tr>\n",
       "  <th>Cmp_y</th>     <td>    0.1992</td> <td>    0.068</td> <td>    2.928</td> <td> 0.004</td> <td>    0.065</td> <td>    0.333</td>\n",
       "</tr>\n",
       "<tr>\n",
       "  <th>Year</th>      <td>    0.2953</td> <td>    0.064</td> <td>    4.628</td> <td> 0.000</td> <td>    0.170</td> <td>    0.421</td>\n",
       "</tr>\n",
       "</table>\n",
       "<table class=\"simpletable\">\n",
       "<tr>\n",
       "  <th>Omnibus:</th>       <td>17.656</td> <th>  Durbin-Watson:     </th> <td>   2.102</td>\n",
       "</tr>\n",
       "<tr>\n",
       "  <th>Prob(Omnibus):</th> <td> 0.000</td> <th>  Jarque-Bera (JB):  </th> <td>  20.986</td>\n",
       "</tr>\n",
       "<tr>\n",
       "  <th>Skew:</th>          <td>-0.579</td> <th>  Prob(JB):          </th> <td>2.77e-05</td>\n",
       "</tr>\n",
       "<tr>\n",
       "  <th>Kurtosis:</th>      <td> 3.885</td> <th>  Cond. No.          </th> <td>3.15e+05</td>\n",
       "</tr>\n",
       "</table><br/><br/>Warnings:<br/>[1] Standard Errors assume that the covariance matrix of the errors is correctly specified.<br/>[2] The condition number is large, 3.15e+05. This might indicate that there are<br/>strong multicollinearity or other numerical problems."
      ],
      "text/plain": [
       "<class 'statsmodels.iolib.summary.Summary'>\n",
       "\"\"\"\n",
       "                            OLS Regression Results                            \n",
       "==============================================================================\n",
       "Dep. Variable:                 Rate_x   R-squared:                       0.177\n",
       "Model:                            OLS   Adj. R-squared:                  0.162\n",
       "Method:                 Least Squares   F-statistic:                     12.44\n",
       "Date:                Fri, 03 Aug 2018   Prob (F-statistic):           3.51e-09\n",
       "Time:                        11:54:33   Log-Likelihood:                -932.03\n",
       "No. Observations:                 237   AIC:                             1874.\n",
       "Df Residuals:                     232   BIC:                             1891.\n",
       "Df Model:                           4                                         \n",
       "Covariance Type:            nonrobust                                         \n",
       "==============================================================================\n",
       "                 coef    std err          t      P>|t|      [0.025      0.975]\n",
       "------------------------------------------------------------------------------\n",
       "Intercept   -500.8457    126.741     -3.952      0.000    -750.555    -251.136\n",
       "Pct           -0.2978      0.173     -1.723      0.086      -0.638       0.043\n",
       "Att_y         -0.1202      0.039     -3.049      0.003      -0.198      -0.043\n",
       "Cmp_y          0.1992      0.068      2.928      0.004       0.065       0.333\n",
       "Year           0.2953      0.064      4.628      0.000       0.170       0.421\n",
       "==============================================================================\n",
       "Omnibus:                       17.656   Durbin-Watson:                   2.102\n",
       "Prob(Omnibus):                  0.000   Jarque-Bera (JB):               20.986\n",
       "Skew:                          -0.579   Prob(JB):                     2.77e-05\n",
       "Kurtosis:                       3.885   Cond. No.                     3.15e+05\n",
       "==============================================================================\n",
       "\n",
       "Warnings:\n",
       "[1] Standard Errors assume that the covariance matrix of the errors is correctly specified.\n",
       "[2] The condition number is large, 3.15e+05. This might indicate that there are\n",
       "strong multicollinearity or other numerical problems.\n",
       "\"\"\""
      ]
     },
     "execution_count": 5,
     "metadata": {},
     "output_type": "execute_result"
    }
   ],
   "source": [
    "lm = smf.ols('Rate_x ~  Pct + Att_y + Cmp_y + Year', data = data)\n",
    "most_naive_model = lm.fit()\n",
    "most_naive_model.summary()"
   ]
  },
  {
   "cell_type": "code",
   "execution_count": 6,
   "metadata": {},
   "outputs": [
    {
     "data": {
      "text/html": [
       "<table class=\"simpletable\">\n",
       "<caption>OLS Regression Results</caption>\n",
       "<tr>\n",
       "  <th>Dep. Variable:</th>         <td>Rate_x</td>      <th>  R-squared:         </th> <td>   0.197</td>\n",
       "</tr>\n",
       "<tr>\n",
       "  <th>Model:</th>                   <td>OLS</td>       <th>  Adj. R-squared:    </th> <td>   0.180</td>\n",
       "</tr>\n",
       "<tr>\n",
       "  <th>Method:</th>             <td>Least Squares</td>  <th>  F-statistic:       </th> <td>   11.33</td>\n",
       "</tr>\n",
       "<tr>\n",
       "  <th>Date:</th>             <td>Fri, 03 Aug 2018</td> <th>  Prob (F-statistic):</th> <td>8.75e-10</td>\n",
       "</tr>\n",
       "<tr>\n",
       "  <th>Time:</th>                 <td>11:54:33</td>     <th>  Log-Likelihood:    </th> <td> -929.07</td>\n",
       "</tr>\n",
       "<tr>\n",
       "  <th>No. Observations:</th>      <td>   237</td>      <th>  AIC:               </th> <td>   1870.</td>\n",
       "</tr>\n",
       "<tr>\n",
       "  <th>Df Residuals:</th>          <td>   231</td>      <th>  BIC:               </th> <td>   1891.</td>\n",
       "</tr>\n",
       "<tr>\n",
       "  <th>Df Model:</th>              <td>     5</td>      <th>                     </th>     <td> </td>   \n",
       "</tr>\n",
       "<tr>\n",
       "  <th>Covariance Type:</th>      <td>nonrobust</td>    <th>                     </th>     <td> </td>   \n",
       "</tr>\n",
       "</table>\n",
       "<table class=\"simpletable\">\n",
       "<tr>\n",
       "      <td></td>         <th>coef</th>     <th>std err</th>      <th>t</th>      <th>P>|t|</th>  <th>[0.025</th>    <th>0.975]</th>  \n",
       "</tr>\n",
       "<tr>\n",
       "  <th>Intercept</th> <td>-2242.6270</td> <td>  730.839</td> <td>   -3.069</td> <td> 0.002</td> <td>-3682.589</td> <td> -802.665</td>\n",
       "</tr>\n",
       "<tr>\n",
       "  <th>Pct</th>       <td>   30.9414</td> <td>   12.914</td> <td>    2.396</td> <td> 0.017</td> <td>    5.496</td> <td>   56.386</td>\n",
       "</tr>\n",
       "<tr>\n",
       "  <th>Att_y</th>     <td>   -0.1321</td> <td>    0.039</td> <td>   -3.358</td> <td> 0.001</td> <td>   -0.210</td> <td>   -0.055</td>\n",
       "</tr>\n",
       "<tr>\n",
       "  <th>Cmp_y</th>     <td>    0.2200</td> <td>    0.068</td> <td>    3.240</td> <td> 0.001</td> <td>    0.086</td> <td>    0.354</td>\n",
       "</tr>\n",
       "<tr>\n",
       "  <th>Year</th>      <td>    1.1724</td> <td>    0.368</td> <td>    3.186</td> <td> 0.002</td> <td>    0.447</td> <td>    1.898</td>\n",
       "</tr>\n",
       "<tr>\n",
       "  <th>Pct:Year</th>  <td>   -0.0157</td> <td>    0.007</td> <td>   -2.419</td> <td> 0.016</td> <td>   -0.029</td> <td>   -0.003</td>\n",
       "</tr>\n",
       "</table>\n",
       "<table class=\"simpletable\">\n",
       "<tr>\n",
       "  <th>Omnibus:</th>       <td>21.132</td> <th>  Durbin-Watson:     </th> <td>   2.136</td>\n",
       "</tr>\n",
       "<tr>\n",
       "  <th>Prob(Omnibus):</th> <td> 0.000</td> <th>  Jarque-Bera (JB):  </th> <td>  25.820</td>\n",
       "</tr>\n",
       "<tr>\n",
       "  <th>Skew:</th>          <td>-0.656</td> <th>  Prob(JB):          </th> <td>2.47e-06</td>\n",
       "</tr>\n",
       "<tr>\n",
       "  <th>Kurtosis:</th>      <td> 3.945</td> <th>  Cond. No.          </th> <td>1.04e+08</td>\n",
       "</tr>\n",
       "</table><br/><br/>Warnings:<br/>[1] Standard Errors assume that the covariance matrix of the errors is correctly specified.<br/>[2] The condition number is large, 1.04e+08. This might indicate that there are<br/>strong multicollinearity or other numerical problems."
      ],
      "text/plain": [
       "<class 'statsmodels.iolib.summary.Summary'>\n",
       "\"\"\"\n",
       "                            OLS Regression Results                            \n",
       "==============================================================================\n",
       "Dep. Variable:                 Rate_x   R-squared:                       0.197\n",
       "Model:                            OLS   Adj. R-squared:                  0.180\n",
       "Method:                 Least Squares   F-statistic:                     11.33\n",
       "Date:                Fri, 03 Aug 2018   Prob (F-statistic):           8.75e-10\n",
       "Time:                        11:54:33   Log-Likelihood:                -929.07\n",
       "No. Observations:                 237   AIC:                             1870.\n",
       "Df Residuals:                     231   BIC:                             1891.\n",
       "Df Model:                           5                                         \n",
       "Covariance Type:            nonrobust                                         \n",
       "==============================================================================\n",
       "                 coef    std err          t      P>|t|      [0.025      0.975]\n",
       "------------------------------------------------------------------------------\n",
       "Intercept  -2242.6270    730.839     -3.069      0.002   -3682.589    -802.665\n",
       "Pct           30.9414     12.914      2.396      0.017       5.496      56.386\n",
       "Att_y         -0.1321      0.039     -3.358      0.001      -0.210      -0.055\n",
       "Cmp_y          0.2200      0.068      3.240      0.001       0.086       0.354\n",
       "Year           1.1724      0.368      3.186      0.002       0.447       1.898\n",
       "Pct:Year      -0.0157      0.007     -2.419      0.016      -0.029      -0.003\n",
       "==============================================================================\n",
       "Omnibus:                       21.132   Durbin-Watson:                   2.136\n",
       "Prob(Omnibus):                  0.000   Jarque-Bera (JB):               25.820\n",
       "Skew:                          -0.656   Prob(JB):                     2.47e-06\n",
       "Kurtosis:                       3.945   Cond. No.                     1.04e+08\n",
       "==============================================================================\n",
       "\n",
       "Warnings:\n",
       "[1] Standard Errors assume that the covariance matrix of the errors is correctly specified.\n",
       "[2] The condition number is large, 1.04e+08. This might indicate that there are\n",
       "strong multicollinearity or other numerical problems.\n",
       "\"\"\""
      ]
     },
     "execution_count": 6,
     "metadata": {},
     "output_type": "execute_result"
    }
   ],
   "source": [
    "lm = smf.ols('Rate_x ~  Pct + Att_y + Cmp_y + Year + Pct * Year', data = data)\n",
    "most_naive_model = lm.fit()\n",
    "most_naive_model.summary()"
   ]
  },
  {
   "cell_type": "code",
   "execution_count": 7,
   "metadata": {},
   "outputs": [
    {
     "name": "stdout",
     "output_type": "stream",
     "text": [
      "144.29430044037005\n",
      "265.66342056034057\n"
     ]
    }
   ],
   "source": [
    "lr = LinearRegression()\n",
    "lr.fit(X_train, y_train)\n",
    "print(mean_squared_error(y_train,lr.predict(X_train)))\n",
    "print(mean_squared_error(y_test,lr.predict(X_test)))"
   ]
  },
  {
   "cell_type": "code",
   "execution_count": 8,
   "metadata": {},
   "outputs": [
    {
     "name": "stdout",
     "output_type": "stream",
     "text": [
      "151.2039960795743\n",
      "259.8830500799048\n"
     ]
    }
   ],
   "source": [
    "lr = Lasso()\n",
    "lr.fit(X_train, y_train)\n",
    "print(mean_squared_error(y_train,lr.predict(X_train)))\n",
    "print(mean_squared_error(y_test,lr.predict(X_test)))"
   ]
  },
  {
   "cell_type": "code",
   "execution_count": 9,
   "metadata": {},
   "outputs": [
    {
     "name": "stdout",
     "output_type": "stream",
     "text": [
      "144.3307757012772\n",
      "262.8042744457822\n"
     ]
    }
   ],
   "source": [
    "lr = Ridge()\n",
    "lr.fit(X_train, y_train)\n",
    "print(mean_squared_error(y_train,lr.predict(X_train)))\n",
    "print(mean_squared_error(y_test,lr.predict(X_test)))"
   ]
  },
  {
   "cell_type": "code",
   "execution_count": 10,
   "metadata": {},
   "outputs": [
    {
     "name": "stdout",
     "output_type": "stream",
     "text": [
      "150.74336137226283\n",
      "259.45025331380185\n"
     ]
    }
   ],
   "source": [
    "lr = ElasticNet()\n",
    "lr.fit(X_train, y_train)\n",
    "print(mean_squared_error(y_train,lr.predict(X_train)))\n",
    "print(mean_squared_error(y_test,lr.predict(X_test)))"
   ]
  },
  {
   "cell_type": "code",
   "execution_count": 13,
   "metadata": {},
   "outputs": [
    {
     "name": "stdout",
     "output_type": "stream",
     "text": [
      "148.76152019625687\n",
      "258.9416265071606\n"
     ]
    },
    {
     "name": "stderr",
     "output_type": "stream",
     "text": [
      "/home/leaferickson/anaconda3/lib/python3.6/site-packages/ipykernel_launcher.py:2: SettingWithCopyWarning: \n",
      "A value is trying to be set on a copy of a slice from a DataFrame.\n",
      "Try using .loc[row_indexer,col_indexer] = value instead\n",
      "\n",
      "See the caveats in the documentation: http://pandas.pydata.org/pandas-docs/stable/indexing.html#indexing-view-versus-copy\n",
      "  \n",
      "/home/leaferickson/anaconda3/lib/python3.6/site-packages/ipykernel_launcher.py:3: SettingWithCopyWarning: \n",
      "A value is trying to be set on a copy of a slice from a DataFrame.\n",
      "Try using .loc[row_indexer,col_indexer] = value instead\n",
      "\n",
      "See the caveats in the documentation: http://pandas.pydata.org/pandas-docs/stable/indexing.html#indexing-view-versus-copy\n",
      "  This is separate from the ipykernel package so we can avoid doing imports until\n",
      "/home/leaferickson/anaconda3/lib/python3.6/site-packages/ipykernel_launcher.py:8: SettingWithCopyWarning: \n",
      "A value is trying to be set on a copy of a slice from a DataFrame.\n",
      "Try using .loc[row_indexer,col_indexer] = value instead\n",
      "\n",
      "See the caveats in the documentation: http://pandas.pydata.org/pandas-docs/stable/indexing.html#indexing-view-versus-copy\n",
      "  \n",
      "/home/leaferickson/anaconda3/lib/python3.6/site-packages/ipykernel_launcher.py:9: SettingWithCopyWarning: \n",
      "A value is trying to be set on a copy of a slice from a DataFrame.\n",
      "Try using .loc[row_indexer,col_indexer] = value instead\n",
      "\n",
      "See the caveats in the documentation: http://pandas.pydata.org/pandas-docs/stable/indexing.html#indexing-view-versus-copy\n",
      "  if __name__ == '__main__':\n"
     ]
    }
   ],
   "source": [
    "X2 = X_train[[\"Pct\", \"Year\", \"Att_y\", \"Cmp_y\"]]\n",
    "X2[\"int\"] = 1\n",
    "X2[\"Pct_Year\"] = X2[\"Pct\"] * X2[\"Year\"]\n",
    "lr = LinearRegression()\n",
    "lr.fit(X2, y_train)\n",
    "print(mean_squared_error(y_train,lr.predict(X2)))\n",
    "X3 = X_test[[\"Pct\", \"Year\", \"Att_y\", \"Cmp_y\"]]\n",
    "X3[\"int\"] = 1\n",
    "X3[\"Pct_Year\"] = X3[\"Pct\"] * X3[\"Year\"]\n",
    "print(mean_squared_error(y_test,lr.predict(X3)))"
   ]
  },
  {
   "cell_type": "code",
   "execution_count": 14,
   "metadata": {},
   "outputs": [],
   "source": [
    "pickle.dump(lr, open(\"model.pkl\",\"wb\"))"
   ]
  },
  {
   "cell_type": "code",
   "execution_count": 12,
   "metadata": {},
   "outputs": [
    {
     "name": "stderr",
     "output_type": "stream",
     "text": [
      "/home/leaferickson/anaconda3/lib/python3.6/site-packages/ipykernel_launcher.py:2: SettingWithCopyWarning: \n",
      "A value is trying to be set on a copy of a slice from a DataFrame.\n",
      "Try using .loc[row_indexer,col_indexer] = value instead\n",
      "\n",
      "See the caveats in the documentation: http://pandas.pydata.org/pandas-docs/stable/indexing.html#indexing-view-versus-copy\n",
      "  \n"
     ]
    },
    {
     "name": "stdout",
     "output_type": "stream",
     "text": [
      "152.6298090632096\n",
      "256.5510829999185\n"
     ]
    },
    {
     "name": "stderr",
     "output_type": "stream",
     "text": [
      "/home/leaferickson/anaconda3/lib/python3.6/site-packages/ipykernel_launcher.py:7: SettingWithCopyWarning: \n",
      "A value is trying to be set on a copy of a slice from a DataFrame.\n",
      "Try using .loc[row_indexer,col_indexer] = value instead\n",
      "\n",
      "See the caveats in the documentation: http://pandas.pydata.org/pandas-docs/stable/indexing.html#indexing-view-versus-copy\n",
      "  import sys\n"
     ]
    }
   ],
   "source": [
    "X2 = X_train[[\"Pct\", \"Year\", \"Att_y\", \"Cmp_y\"]]\n",
    "X2[\"int\"] = 1\n",
    "lr = Lasso()\n",
    "lr.fit(X2, y_train)\n",
    "print(mean_squared_error(y_train,lr.predict(X2)))\n",
    "X3 = X_test[[\"Pct\", \"Year\", \"Att_y\", \"Cmp_y\"]]\n",
    "X3[\"int\"] = 1\n",
    "print(mean_squared_error(y_test,lr.predict(X3)))"
   ]
  },
  {
   "cell_type": "code",
   "execution_count": null,
   "metadata": {},
   "outputs": [],
   "source": []
  }
 ],
 "metadata": {
  "kernelspec": {
   "display_name": "Python 3",
   "language": "python",
   "name": "python3"
  },
  "language_info": {
   "codemirror_mode": {
    "name": "ipython",
    "version": 3
   },
   "file_extension": ".py",
   "mimetype": "text/x-python",
   "name": "python",
   "nbconvert_exporter": "python",
   "pygments_lexer": "ipython3",
   "version": "3.6.6"
  }
 },
 "nbformat": 4,
 "nbformat_minor": 2
}
